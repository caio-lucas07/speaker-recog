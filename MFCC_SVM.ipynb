{
  "nbformat": 4,
  "nbformat_minor": 0,
  "metadata": {
    "kernelspec": {
      "display_name": "Python 3",
      "language": "python",
      "name": "python3"
    },
    "language_info": {
      "codemirror_mode": {
        "name": "ipython",
        "version": 3
      },
      "file_extension": ".py",
      "mimetype": "text/x-python",
      "name": "python",
      "nbconvert_exporter": "python",
      "pygments_lexer": "ipython3",
      "version": "3.6.4"
    },
    "colab": {
      "provenance": [],
      "toc_visible": true
    }
  },
  "cells": [
    {
      "cell_type": "markdown",
      "metadata": {
        "_uuid": "46fb31415ad7a6e127db7c492d8f83aa09f36df0",
        "id": "JPkhKYQg7m3A"
      },
      "source": [
        "# MFCC\n",
        " O MFCC faz uso da escala MEL para dividir a banda de frequência em sub-bandas , para posteriormente, extrair os coeficientes cepstrais usando a transformada discreta de cosseno (DCT).  \n",
        "\n",
        "\n",
        "\n",
        ""
      ]
    },
    {
      "cell_type": "code",
      "metadata": {
        "id": "pNbFrDw5R6tP",
        "colab": {
          "base_uri": "https://localhost:8080/"
        },
        "outputId": "079dd5c2-6836-477b-cd38-f1745d54cfe3"
      },
      "source": [
        "# https://drive.google.com/drive/folders/1-EDWQGCG7IlSm-gyV6SBz9YV0HpwefiB?usp=sharing\n",
        "from google.colab import drive\n",
        "drive.mount('/content/drive/')"
      ],
      "execution_count": null,
      "outputs": [
        {
          "output_type": "stream",
          "text": [
            "Mounted at /content/drive/\n"
          ],
          "name": "stdout"
        }
      ]
    },
    {
      "cell_type": "code",
      "metadata": {
        "id": "zz3bKEa691Tc"
      },
      "source": [
        "import os\n",
        "import numpy as np\n",
        "import scipy\n",
        "import scipy.fftpack as fft\n",
        "from scipy.signal import get_window\n",
        "import IPython.display as ipd\n",
        "import matplotlib.pyplot as plt\n",
        "from google.colab import files\n",
        "\n",
        "def normalizevoz(audio,taxamostragem):\n",
        "    audio = audio / np.max(np.abs(audio))\n",
        "    return audio\n",
        "\n",
        "def janelamento(audio, FFTtamanho=2048, espacamento=10, taxamostragem=44100):\n",
        "    audio = np.pad(audio, int(FFTtamanho / 2), mode='reflect')\n",
        "    janela_len = np.round(taxamostragem * espacamento / 1000).astype(int)\n",
        "    janela_num = int((len(audio) - FFTtamanho) / janela_len) + 1\n",
        "    janelas = np.zeros((janela_num,FFTtamanho))\n",
        "    for n in range(janela_num):\n",
        "        janelas[n] = audio[n*janela_len:n*janela_len+FFTtamanho]\n",
        "    return janelas\n",
        "\n",
        "def freq_para_mel(freq):\n",
        "  return 2595.0 * np.log10(1.0 + freq / 700.0)\n",
        "\n",
        "def parafred(mels):\n",
        "    return 700.0 * (10.0**(mels / 2595.0) - 1.0)\n",
        "\n",
        "def pontosdofiltro(fmin, freq_sup, mel_ordem, FFTtamanho, taxamostragem=44100):\n",
        "  fmin_mel = freq_para_mel(fmin)\n",
        "  fmax_mel = freq_para_mel(freq_sup)\n",
        "  mels = np.linspace(fmin_mel, fmax_mel, num=mel_ordem+2)\n",
        "  freqs = parafred(mels)\n",
        "  return np.floor((FFTtamanho + 1) / taxamostragem * freqs).astype(int), freqs\n",
        "\n",
        "def filtros(pontosfiltro, FFT_size):\n",
        "    filters = np.zeros((len(pontosfiltro)-2,int(FFT_size/2+1)))\n",
        "\n",
        "    for n in range(len(pontosfiltro)-2):\n",
        "        filters[n, pontosfiltro[n] : pontosfiltro[n + 1]] = np.linspace(0, 1, pontosfiltro[n + 1] - pontosfiltro[n])\n",
        "        filters[n, pontosfiltro[n + 1] : pontosfiltro[n + 2]] = np.linspace(1, 0, pontosfiltro[n + 2] - pontosfiltro[n + 1])\n",
        "    return filters\n",
        "\n",
        "# def dct(dct_filter_num, filter_len):\n",
        "#     basis = np.empty((dct_filter_num,filter_len))\n",
        "#     basis[0, :] = 1.0 / np.sqrt(filter_len)\n",
        "\n",
        "#     samples = np.arange(1, 2 * filter_len, 2) * np.pi / (2.0 * filter_len)\n",
        "\n",
        "#     for i in range(1, dct_filter_num):\n",
        "#         basis[i, :] = np.cos(i * samples) * np.sqrt(2.0 / filter_len)\n",
        "\n",
        "#     return basis\n",
        "\n",
        "def MFCC(audio,taxamostragem):\n",
        "  espacamento = 15\n",
        "  FFTtamanho = 2048\n",
        "\n",
        "  audio = normalizevoz(audio,taxamostragem)\n",
        "  audiojanelado = janelamento(audio, FFTtamanho=FFTtamanho, espacamento=espacamento, taxamostragem=taxamostragem)\n",
        "\n",
        "  window = get_window(\"hann\", FFTtamanho, fftbins=True)\n",
        "  audio_j = audiojanelado * window\n",
        "\n",
        "  audio_jTransposto = np.transpose(audio_j)\n",
        "\n",
        "  audio_fft = np.empty((int(1 + FFTtamanho // 2), audio_jTransposto.shape[1]), dtype=np.complex64, order='F')\n",
        "\n",
        "  for n in range(audio_fft.shape[1]):\n",
        "      audio_fft[:, n] = fft.fft(audio_jTransposto[:, n], axis=0)[:audio_fft.shape[0]]\n",
        "\n",
        "  audio_fft = np.transpose(audio_fft)\n",
        "\n",
        "  freq_min = 0\n",
        "  freq_sup = taxamostragem / 2\n",
        "  mel_ordem= 21\n",
        "\n",
        "  pontosfiltro, mel_freqs = pontosdofiltro(freq_min, freq_sup, mel_ordem, FFTtamanho, taxamostragem)\n",
        "\n",
        "  parafred(mel_freqs[-1])\n",
        "\n",
        "  filters = filtros(pontosfiltro, FFTtamanho)\n",
        "\n",
        "  enorm = 2.0 / (mel_freqs[2:mel_ordem+2] - mel_freqs[:mel_ordem])\n",
        "  filters *= enorm[:, np.newaxis]\n",
        "\n",
        "  potenciaudio = np.square(np.abs(audio_fft))\n",
        "  audio_filtrado = np.dot(filters, np.transpose(potenciaudio))\n",
        "  audio_log = 10.0 * np.log10(audio_filtrado)\n",
        "\n",
        "  dct_filter_num = 21\n",
        "  # dct_filters = dct(dct_filter_num, 21)\n",
        "  dct_filters = scipy.fft.dct(dct_filter_num, 21)\n",
        "  cepstral_coefficents = np.dot(dct_filters, audio_log)\n",
        "  return cepstral_coefficents.T"
      ],
      "execution_count": null,
      "outputs": []
    },
    {
      "cell_type": "code",
      "metadata": {
        "id": "tnIRWeptEfGp"
      },
      "source": [
        "# Building test\n",
        "from os import listdir\n",
        "from scipy.io import wavfile\n",
        "speakers = '/content/drive/MyDrive/UFC/AICT/vox1/vox1_dev_wav/wav'\n",
        "\n",
        "X = np.zeros((1,21))\n",
        "Xt = np.zeros((1,21))\n",
        "y = np.ones((1,1))\n",
        "yt = np.ones((1,1))\n",
        "\n",
        "speaker = listdir(speakers)[0]\n",
        "# for sample in listdir(speakers+'/'+speaker)[0:2]:\n",
        "#   samplepath = speakers+'/'+speaker+'/'+sample\n",
        "#   for record in listdir(samplepath)[0:1]:\n",
        "#     Fs, true_speaker = wavfile.read(samplepath+'/'+record)\n",
        "#     toX = MFCC(true_speaker,Fs)\n",
        "#     X = np.concatenate((X,toX))\n",
        "#     y = np.concatenate((y,np.matrix(toX[:,1]*0+1).T),axis=0)\n",
        "#     print('true_speaker check '+' '+sample+' '+speaker+' '+str(toX[0,1]*0+1))\n",
        "#     test = speaker\n",
        "# X = np.delete(X,0,0)\n",
        "# y = np.delete(y,0,0)\n",
        "\n",
        "# for speaker in listdir(speakers)[1:100]:\n",
        "for speaker in listdir(speakers)[0:100]:\n",
        "  for sample in listdir(speakers+'/'+speaker)[0:1]:\n",
        "    samplepath = speakers+'/'+speaker+'/'+sample\n",
        "    for record in listdir(samplepath)[0:1]:\n",
        "      Fs, impostor = wavfile.read(samplepath+'/'+record)\n",
        "      toX = MFCC(impostor,Fs)\n",
        "      X = np.concatenate((X,toX))\n",
        "      # y = np.concatenate((y,np.matrix(toX[:,1]*0-1).T),axis=0)\n",
        "      # print('impostor check '+' '+sample+' '+speaker+' '+str(toX[0,1]*0-1))\n",
        "\n",
        "# from random import randint\n",
        "# speaker_test_id = [];\n",
        "# r_idx = [randint(0, 9) for p in range(0, 20)]\n",
        "# for speaker in [listdir(speakers)[idx] for idx in r_idx]:\n",
        "#   for sample in listdir(speakers+'/'+speaker)[0:1]:\n",
        "#     samplepath = speakers+'/'+speaker+'/'+sample\n",
        "#     for record in listdir(samplepath)[0:1]:\n",
        "#       Fs, speaker_test = wavfile.read(samplepath+'/'+record)\n",
        "#       toX = MFCC(speaker_test,Fs)\n",
        "#       Xt = np.concatenate((Xt,toX))\n",
        "#       if speaker==listdir(speakers)[0]:\n",
        "#         yt = np.concatenate((y,np.matrix(toX[:,1]*0+1).T),axis=0)\n",
        "#       else:\n",
        "#         yt = np.concatenate((y,np.matrix(toX[:,1]*0-1).T),axis=0)\n",
        "#       print('speaker_test check '+' '+sample+' '+speaker)\n",
        "#       speaker_test_id.append(Xt.shape[0])\n",
        "# Xt = np.delete(Xt,0,0)"
      ],
      "execution_count": null,
      "outputs": []
    },
    {
      "cell_type": "code",
      "metadata": {
        "colab": {
          "base_uri": "https://localhost:8080/"
        },
        "id": "e65XqHWOmM-S",
        "outputId": "81f70b11-fff1-40df-fdeb-e24017937db0"
      },
      "source": [
        "from sklearn.decomposition import PCA\n",
        "pca = PCA(n_components=3)\n",
        "pca_X = pca.fit_transform(X)\n",
        "print(pca_X.shape)"
      ],
      "execution_count": null,
      "outputs": [
        {
          "output_type": "stream",
          "text": [
            "(53606, 3)\n"
          ],
          "name": "stdout"
        }
      ]
    },
    {
      "cell_type": "code",
      "metadata": {
        "colab": {
          "base_uri": "https://localhost:8080/",
          "height": 456
        },
        "id": "rEyGS3yzm2Fa",
        "outputId": "d5be98aa-9c9e-47de-8dd4-8f9a22b4e3b3"
      },
      "source": [
        "fig, axs = plt.subplots(1, 2);\n",
        "axs[0].hist(pca_X,bins=1000);\n",
        "axs[1].plot(pca_X);\n",
        "axs[0].legend(('PC1','PC2','PC3'));\n",
        "fig.set_size_inches(15, 7.5);"
      ],
      "execution_count": null,
      "outputs": [
        {
          "output_type": "display_data",
          "data": {
            "image/png": "[encoded data removed]",
            "text/plain": [
              "<Figure size 1080x540 with 2 Axes>"
            ]
          },
          "metadata": {
            "tags": [],
            "needs_background": "light"
          }
        }
      ]
    },
    {
      "cell_type": "markdown",
      "metadata": {
        "id": "7qhz4BkemFnh"
      },
      "source": [
        "From here execute for SVM\n"
      ]
    },
    {
      "cell_type": "code",
      "metadata": {
        "colab": {
          "base_uri": "https://localhost:8080/"
        },
        "id": "njL0N20A_zHl",
        "outputId": "d548fb9c-cb6c-499c-f74b-7d083aa1a9d8"
      },
      "source": [
        "from sklearn import svm\n",
        "from sklearn.preprocessing import StandardScaler\n",
        "scalerX,scalerXt = StandardScaler(),StandardScaler()\n",
        "scalerX.fit(X)\n",
        "scalerXt.fit(Xt)\n",
        "X,Xt = scalerX.transform(X), scalerXt.transform(Xt)\n",
        "\n",
        "clf = svm.SVC()\n",
        "clf.fit(X, y)"
      ],
      "execution_count": null,
      "outputs": [
        {
          "output_type": "stream",
          "text": [
            "/usr/local/lib/python3.7/dist-packages/sklearn/utils/validation.py:760: DataConversionWarning: A column-vector y was passed when a 1d array was expected. Please change the shape of y to (n_samples, ), for example using ravel().\n",
            "  y = column_or_1d(y, warn=True)\n"
          ],
          "name": "stderr"
        },
        {
          "output_type": "execute_result",
          "data": {
            "text/plain": [
              "SVC(C=1.0, break_ties=False, cache_size=200, class_weight=None, coef0=0.0,\n",
              "    decision_function_shape='ovr', degree=3, gamma='scale', kernel='rbf',\n",
              "    max_iter=-1, probability=False, random_state=None, shrinking=True,\n",
              "    tol=0.001, verbose=False)"
            ]
          },
          "metadata": {
            "tags": []
          },
          "execution_count": 5
        }
      ]
    },
    {
      "cell_type": "code",
      "metadata": {
        "colab": {
          "base_uri": "https://localhost:8080/"
        },
        "id": "rt5-op5lNqMp",
        "outputId": "0ce51d6b-4985-453d-a6d0-c48ef11d66ff"
      },
      "source": [
        "from scipy import stats\n",
        "i2 = 0\n",
        "err = 0\n",
        "for i1 in range(0,len(speaker_test_id)):\n",
        "  t = Xt[i2:speaker_test_id[i1]]\n",
        "  yt_mode = stats.mode(yt[i2:speaker_test_id[i1]]).mode\n",
        "  y_mode = stats.mode(clf.predict(t)).mode\n",
        "  if abs(y_mode-yt_mode) > 0:\n",
        "    err +=1\n",
        "  print('Moda:',y_mode,'True',yt_mode)\n",
        "  i2 = speaker_test_id[i1]\n",
        "print('Error rate:',float(err)/len(speaker_test_id)*100,'%')"
      ],
      "execution_count": null,
      "outputs": [
        {
          "output_type": "stream",
          "text": [
            "Moda: [-1.] True [[1.]]\n",
            "Moda: [-1.] True [[1.]]\n",
            "Moda: [-1.] True [[1.]]\n",
            "Moda: [-1.] True [[1.]]\n",
            "Moda: [-1.] True [[1.]]\n",
            "Moda: [-1.] True [[-1.]]\n",
            "Moda: [-1.] True [[-1.]]\n",
            "Moda: [-1.] True [[-1.]]\n",
            "Moda: [-1.] True [[-1.]]\n",
            "Moda: [-1.] True [[-1.]]\n",
            "Moda: [-1.] True [[-1.]]\n",
            "Moda: [-1.] True [[-1.]]\n",
            "Moda: [-1.] True [[-1.]]\n",
            "Moda: [-1.] True [[-1.]]\n",
            "Moda: [-1.] True [[-1.]]\n",
            "Moda: [-1.] True [[-1.]]\n",
            "Moda: [-1.] True [[-1.]]\n",
            "Moda: [-1.] True [[-1.]]\n",
            "Moda: [-1.] True [[-1.]]\n",
            "Moda: [-1.] True [[-1.]]\n",
            "Error rate: 25.0 %\n"
          ],
          "name": "stdout"
        }
      ]
    },
    {
      "cell_type": "code",
      "metadata": {
        "id": "AE0kpcITDZ4G"
      },
      "source": [
        "#yt_label = [np.mean(yt[speaker_test_id[i-1]:speaker_test_id[i]]) for i in range(1,len(speaker_test_id))]"
      ],
      "execution_count": null,
      "outputs": []
    }
  ]
}